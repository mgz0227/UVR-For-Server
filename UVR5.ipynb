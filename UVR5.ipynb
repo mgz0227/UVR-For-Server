{
 "cells": [
  {
   "cell_type": "code",
   "execution_count": null,
   "id": "f596ec89-6b02-4f0e-ba76-127a275df959",
   "metadata": {},
   "outputs": [],
   "source": [
    "#你好，这是我在制作的UVR5镜像，理论上可以直接运行，在使用之前请仔细阅读注释内容！！！\n",
    "#请严格按照步骤运行此笔记本，否则可能出现意料之外的错误！！！"
   ]
  },
  {
   "cell_type": "code",
   "execution_count": null,
   "id": "c82a8bad-f0ca-43a6-9447-e65b5f460012",
   "metadata": {},
   "outputs": [],
   "source": [
    "#剪切进数据盘，节省系统盘空间\n",
    "%mv /root/UVR-For-Server /root/autodl-tmp/"
   ]
  },
  {
   "cell_type": "code",
   "execution_count": null,
   "id": "3e5ca655-6b7d-4586-9222-68629a521955",
   "metadata": {},
   "outputs": [],
   "source": [
    "#设置学术加速，非常建议，因为UVR下载模型需要使用到\n",
    "import subprocess\n",
    "import os\n",
    "\n",
    "result = subprocess.run('bash -c \"source /etc/network_turbo && env | grep proxy\"', shell=True, capture_output=True, text=True)\n",
    "output = result.stdout\n",
    "for line in output.splitlines():\n",
    "    if '=' in line:\n",
    "        var, value = line.split('=', 1)\n",
    "        os.environ[var] = value"
   ]
  },
  {
   "cell_type": "code",
   "execution_count": null,
   "id": "55846ba1-58a1-4669-8f0f-2f566393da04",
   "metadata": {},
   "outputs": [],
   "source": [
    "!rm -rf /tmp/.X1*  # 如果再次启动，删除上一次的临时文件，否则无法正常启动"
   ]
  },
  {
   "cell_type": "code",
   "execution_count": null,
   "id": "f8133b5a-c96a-4e5e-bf51-fcbde01b8b1b",
   "metadata": {},
   "outputs": [],
   "source": [
    "# 启动VNC服务端\n",
    "!USER=root /opt/TurboVNC/bin/vncserver :1 -desktop X -auth /root/.Xauthority -geometry 1920x1080 -depth 24 -rfbwait 120000 -rfbauth /root/.vnc/passwd -fp /usr/share/fonts/X11/misc/,/usr/share/fonts -rfbport 6006"
   ]
  },
  {
   "cell_type": "code",
   "execution_count": null,
   "id": "7aaff6ef-2ff8-4c1f-a6d3-4d6664ec1ac6",
   "metadata": {},
   "outputs": [],
   "source": [
    "!ps -ef | grep vnc # 检查是否启动，如果有vncserver的进程，证明已经启动（不是必要的，因为在这里似乎也不会输出正确内容，如果下面UVR无法运行，请到终端中运行查看）"
   ]
  },
  {
   "cell_type": "code",
   "execution_count": null,
   "id": "fd9ca1e7-353c-4235-8976-3f8c36e6fdb2",
   "metadata": {},
   "outputs": [],
   "source": [
    "#设置显示器\n",
    "import os\n",
    "os.environ['DISPLAY'] = ':1'"
   ]
  },
  {
   "cell_type": "code",
   "execution_count": null,
   "id": "8cc3c381-8a1d-4f24-9d89-0d74ecb39add",
   "metadata": {},
   "outputs": [],
   "source": [
    "#'''\n",
    "这里，你需要设置SSH隧道进行端口转发，使用autodl官方提供的方式，\n",
    "\n",
    "\n",
    "之后，你需要下载vnc以查看UVR的GUI输出的内容，这里从autodl帮助文档转载一下，方便大家使用\n",
    "Ubuntu: http://aivc.ks3-cn-beijing.ksyun.com/packages/turbovnc/turbovnc_2.2.5_amd64.deb\n",
    "MacOS: http://aivc.ks3-cn-beijing.ksyun.com/packages/turbovnc/TurboVNC-2.2.5.dmg\n",
    "Windows: http://aivc.ks3-cn-beijing.ksyun.com/packages/turbovnc/TurboVNC-2.2.5-x64.exe\n",
    "\n",
    "安装完成后，使用vnc客户端连接，地址请填写：127.0.0.1:6006 密码为：123456\n",
    "\n",
    "连接成功后应该显示黑屏，是正常现象，因为此时还没有任何输出"
   ]
  },
  {
   "cell_type": "code",
   "execution_count": null,
   "id": "5784fa74-484e-49d4-ab31-49d9c955ae3c",
   "metadata": {},
   "outputs": [],
   "source": [
    "!python UVR.py #运行UVR5"
   ]
  },
  {
   "cell_type": "code",
   "execution_count": null,
   "id": "71774d35-c4b3-478f-8c48-dd8f0e10d491",
   "metadata": {},
   "outputs": [],
   "source": [
    "#'''\n",
    "运行了上方单元格后，应该就能在vnc中看到UVR的GUI了，恭喜，可以正常使用啦\n",
    "'''\n",
    "\n",
    "'''\n",
    "如果提示了\n",
    "playsound is relying on another python subprocess. Please use `pip install pygobject` if you want playsound to run more efficiently.\n",
    "libGL error: MESA-LOADER: failed to open swrast: /usr/lib/dri/swrast_dri.so: cannot open shared object file: No such file or directory (search paths /usr/lib/x86_64-linux-gnu/dri:\\$${ORIGIN}/dri:/usr/lib/dri, suffix _dri)\n",
    "libGL error: failed to load driver: swrast\n",
    "\n",
    "这堆东西，那应该是已经运行了，正常使用即可，暂时不清楚为什么会报这堆错，有知道的小伙伴也可以给咱说一下嗷，感谢awa！\n",
    "'''"
   ]
  }
 ],
 "metadata": {
  "kernelspec": {
   "display_name": "Python 3 (ipykernel)",
   "language": "python",
   "name": "python3"
  },
  "language_info": {
   "codemirror_mode": {
    "name": "ipython",
    "version": 3
   },
   "file_extension": ".py",
   "mimetype": "text/x-python",
   "name": "python",
   "nbconvert_exporter": "python",
   "pygments_lexer": "ipython3",
   "version": "3.10.8"
  }
 },
 "nbformat": 4,
 "nbformat_minor": 5
}
