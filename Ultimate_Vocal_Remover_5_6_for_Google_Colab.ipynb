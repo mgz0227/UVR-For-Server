{
  "cells": [
    {
      "cell_type": "markdown",
      "metadata": {
        "id": "view-in-github",
        "colab_type": "text"
      },
      "source": [
        "<a href=\"https://colab.research.google.com/github/Eddycrack864/Ultimate-Vocal-Remover-5.6-for-Google-Colab/blob/main/Ultimate_Vocal_Remover_5_6_for_Google_Colab.ipynb\" target=\"_parent\"><img src=\"https://colab.research.google.com/assets/colab-badge.svg\" alt=\"Open In Colab\"/></a>"
      ]
    },
    {
      "cell_type": "markdown",
      "source": [
        "# 🎵 Ultimate Vocal Remover 5.6 for Google Colab 🎵\n",
        "\n",
        "## Colab created by [Not Eddy (Spanish Mod)](http://discord.com/users/274566299349155851) in [AI HUB](https://discord.gg/aihub) server.\n",
        "## You can also use this into a Hugging Face Space [here](https://huggingface.co/spaces/Eddycrack864/UVR5). If you liked the space and colab you can give it a 💖 and star my repo on [GitHub](https://github.com/Eddycrack864/UVR5-5.6-for-Colab).\n",
        "\n",
        "### Thanks to: [Hina](https://github.com/hinabl), [r3gm](https://github.com/R3gm) and [Anjok07](https://github.com/Anjok07)\n",
        "\n",
        "### You can donate to the original UVR5 project here:\n",
        "\n",
        "[![\"Buy Me A Coffee\"](https://www.buymeacoffee.com/assets/img/custom_images/orange_img.png)](https://www.buymeacoffee.com/uvr5)"
      ],
      "metadata": {
        "id": "_1osUVi0IxoR"
      }
    },
    {
      "cell_type": "code",
      "execution_count": null,
      "metadata": {
        "cellView": "form",
        "id": "Fu26OSlq9dsA"
      },
      "outputs": [],
      "source": [
        "#@title # **Install**\n",
        "#@markdown This takes around 10 minutes\n",
        "from IPython.display import clear_output\n",
        "import codecs\n",
        "gitrepo = codecs.decode('uggcf://tvguho.pbz/Rqqlpenpx864/Hygvzngr-Ibpny-Erzbire-5.6-sbe-Tbbtyr-Pbyno.tvg','rot_13')\n",
        "reponame = codecs.decode('Hygvzngr-Ibpny-Erzbire-5.6-sbe-Tbbtyr-Pbyno','rot_13')\n",
        "!git clone $gitrepo\n",
        "%cd $reponame\n",
        "!pip install -r requirements.txt\n",
        "!pip install -U torch torchaudio --no-cache-dir\n",
        "!python -m pip install ort-nightly-gpu --index-url=https://aiinfra.pkgs.visualstudio.com/PublicPackages/_packaging/ort-cuda-12-nightly/pypi/simple/ #Hina code\n",
        "!sudo apt install aria2\n",
        "clear_output()\n",
        "print(\"Installation Completed!!!\")"
      ]
    },
    {
      "cell_type": "code",
      "execution_count": null,
      "metadata": {
        "cellView": "form",
        "id": "TXNqGZcWJmW-"
      },
      "outputs": [],
      "source": [
        "#@title # **WebUI**\n",
        "#@markdown If you want to use the UVR5 VIP models, check the box below\n",
        "import codecs\n",
        "vip = codecs.decode('ivc_zbqryf.cl','rot_13')\n",
        "app = codecs.decode('jroHV.cl','rot_13')\n",
        "vip_models=False #@param {type:\"boolean\"}\n",
        "if vip_models:\n",
        "    print(\"Downloading VIP models...\")\n",
        "    !python $vip\n",
        "    clear_output()\n",
        "    print(\"Complete VIP model download!!!\")\n",
        "\n",
        "!python $app"
      ]
    }
  ],
  "metadata": {
    "accelerator": "GPU",
    "colab": {
      "provenance": [],
      "authorship_tag": "ABX9TyN7AeGIRyK7KFTtr1VkLiyz",
      "include_colab_link": true
    },
    "kernelspec": {
      "display_name": "Python 3",
      "name": "python3"
    },
    "language_info": {
      "name": "python"
    }
  },
  "nbformat": 4,
  "nbformat_minor": 0
}